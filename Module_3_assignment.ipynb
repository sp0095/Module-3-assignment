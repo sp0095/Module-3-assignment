{
  "nbformat": 4,
  "nbformat_minor": 0,
  "metadata": {
    "colab": {
      "provenance": []
    },
    "kernelspec": {
      "name": "python3",
      "display_name": "Python 3"
    },
    "language_info": {
      "name": "python"
    }
  },
  "cells": [
    {
      "cell_type": "code",
      "execution_count": null,
      "metadata": {
        "id": "2rSds12OQgxf"
      },
      "outputs": [],
      "source": []
    },
    {
      "cell_type": "markdown",
      "source": [
        "**1. What are data structures, and why are they important?**\n",
        "\n",
        "Data structures are ways of organizing and storing data in a computer so that it can be accessed and modified efficiently.\n",
        "\n",
        "Here's why data structures are important:\n",
        "\n",
        "**Efficiency:** Different data structures offer different ways to organize and access data. Choosing the right data structure can greatly improve the efficiency of your code, making it faster and more responsive.\n",
        "\n",
        "**Memory Management:** Data structures help in managing memory efficiently. For example, linked lists can dynamically grow and shrink as needed, whereas arrays require a fixed amount of memory.\n",
        "\n",
        "**Reusability:** Data structures provide reusable patterns and solutions to common problems. For instance, a stack can be used to implement undo functionality in applications.\n",
        "\n",
        "**Abstraction:** They provide a way to abstract the complexity of managing data. By using data structures, you can focus on higher-level logic without worrying about the low-level details.\n",
        "\n",
        "**Problem Solving:** Many algorithms rely on specific data structures to function correctly. Understanding data structures is essential for designing and implementing effective algorithms."
      ],
      "metadata": {
        "id": "M1uKCyf8Qlc1"
      }
    },
    {
      "cell_type": "markdown",
      "source": [
        "**2. Explain the difference between mutable and immutable data types with examples?**\n",
        "\n",
        "**Mutable Data Types**\n",
        "\n",
        "Mutable data types are those that can be changed after their creation. You can modify, add, or delete elements in these data types without creating a new object.\n",
        "\n",
        "Example: Lists in Python\n",
        "\n",
        "my_list = [1, 2, 3]\n",
        "\n",
        "my_list.append(4)\n",
        "\n",
        "print(my_list)  # Output: [1, 2, 3, 4]\n",
        "\n",
        "**Immutable Data Types**\n",
        "\n",
        "Immutable data types, on the other hand, cannot be changed once they are created. Any operation that attempts to modify an immutable data type will create a new object instead of modifying the original.\n",
        "\n",
        "Example: Strings in Python\n",
        "\n",
        "my_string = \"Hello\"\n",
        "\n",
        "new_string = my_string + \" World\"\n",
        "\n",
        "print(my_string)  # Output: Hello\n",
        "\n",
        "print(new_string)  # Output: Hello World\n"
      ],
      "metadata": {
        "id": "qqrPjwcEStmg"
      }
    },
    {
      "cell_type": "markdown",
      "source": [
        "**3. What are the main differences between lists and tuples in Python?**\n",
        "\n",
        "**Lists**\n",
        "\n",
        "Mutable: Lists can be modified after their creation. You can add, remove, or change items.\n",
        "\n",
        "Syntax: Lists are created using square brackets [].\n",
        "\n",
        "Methods: Lists have several built-in methods like append(), remove(), pop(), etc., which allow for modification.\n",
        "\n",
        "Performance: Lists are generally slower than tuples because of their dynamic nature.\n",
        "\n",
        "**Tuples**\n",
        "\n",
        "Immutable: Tuples cannot be modified after their creation. Any attempt to change a tuple will result in an error.\n",
        "\n",
        "Syntax: Tuples are created using parentheses ().\n",
        "\n",
        "Methods: Tuples have fewer built-in methods compared to lists, such as count() and index().\n",
        "\n",
        "Performance: Tuples are generally faster than lists due to their immutable nature."
      ],
      "metadata": {
        "id": "TyrbQtRBT0nM"
      }
    },
    {
      "cell_type": "markdown",
      "source": [
        "**4. Describe how dictionaries store data?**\n",
        "\n",
        "**Key-Value Pairs:** Each element in a dictionary is stored as a pair, with a unique key and a corresponding value. Keys are used to access the values.\n",
        "\n",
        "**Hash Table:** Internally, dictionaries use a hash table to store these key-value pairs. The hash table allows for fast access to values based on their keys.\n",
        "\n",
        "**Hash Function:** When a key is added to a dictionary, a hash function is applied to the key to generate a unique hash value. This hash value determines the index where the key-value pair will be stored in the hash table.\n",
        "\n",
        "**Collisions:** If two keys hash to the same index, a collision occurs. Python handles collisions using a technique called chaining, where multiple key-value pairs are stored in a list at the same index.\n",
        "\n",
        "Creating a dictionary\n",
        "\n",
        "my_dict = {\n",
        "    \"name\": \"Alice\",\n",
        "    \"age\": 25,\n",
        "    \"city\": \"Bangalore\"\n",
        "}\n",
        "\n",
        "Accessing values using keys\n",
        "\n",
        "print(my_dict[\"name\"])  # Output: Alice\n",
        "\n",
        "print(my_dict[\"age\"])   # Output: 25\n"
      ],
      "metadata": {
        "id": "FsKW7uOIUjmB"
      }
    },
    {
      "cell_type": "markdown",
      "source": [
        "**5. Why might you use a set instead of a list in Python?**\n",
        "\n",
        "Answer: You might use a set instead of a list in Python because:\n",
        "\n",
        "No Duplicates: A set automatically removes duplicate values, while a list can have duplicates. Faster Search: Sets are quicker when checking if an item is in the set. Unordered: Sets don't care about the order of items, so if order doesn’t matter, a set is a good choice."
      ],
      "metadata": {
        "id": "-smll-tZVZnu"
      }
    },
    {
      "cell_type": "markdown",
      "source": [
        "**6. What is a string in Python, and how is it different from a list ?**\n",
        "\n",
        "Answer: A string in Python is a sequence of characters, used to represent text. It is enclosed in either single quotes (') or double quotes (\").\n",
        "\n",
        "A string is for text and cannot be changed. A list can hold various types of data and can be changed.\n"
      ],
      "metadata": {
        "id": "apKR2EqAV5I0"
      }
    },
    {
      "cell_type": "markdown",
      "source": [
        "**7. How do tuples ensure data integrity in Python ?**\n",
        "\n",
        "Answer: Tuples ensure data integrity in Python because they are immutable, meaning once you create a tuple, you cannot change, add, or remove any of its elements. This makes sure that the data inside a tuple stays the same throughout the program, protecting it from accidental changes.\n",
        "\n"
      ],
      "metadata": {
        "id": "eSiPyLjQWJ2w"
      }
    },
    {
      "cell_type": "markdown",
      "source": [
        "**8.  What is a hash table, and how does it relate to dictionaries in Python ?**\n",
        "\n",
        "Answer: A hash table is a data structure that stores key-value pairs and uses a special function (called a hash function) to convert the key into an index where the value is stored. This allows for fast lookups, insertions, and deletions."
      ],
      "metadata": {
        "id": "LDuAZT0OWYIi"
      }
    },
    {
      "cell_type": "markdown",
      "source": [
        "**9. Can lists contain different data types in Python ?**\n",
        "\n",
        "Answer : Yes, lists in Python can contain different data types. A list can hold a mix of numbers, strings, booleans, or even other lists.\n",
        "\n",
        "\n",
        "\n"
      ],
      "metadata": {
        "id": "S2Fux3cuWlxG"
      }
    },
    {
      "cell_type": "markdown",
      "source": [
        "**10. Explain why strings are immutable in Python ?**\n",
        "\n",
        "Answer: Strings are immutable in Python because once they are created, their content cannot be changed. This helps make programs faster and safer by preventing accidental changes to the data. If you need to modify a string, Python creates a new string with the changes instead of changing the original one.\n"
      ],
      "metadata": {
        "id": "kWlPaUG9W-rm"
      }
    },
    {
      "cell_type": "markdown",
      "source": [
        "**11. What advantages do dictionaries offer over lists for certain tasks ?**\n",
        "\n",
        "Answer: Dictionaries offer several advantages over lists for certain tasks:\n",
        "\n",
        "**Faster Lookups:** You can quickly find a value using a key in a dictionary, while with a list, you have to search through all the items.\n",
        "\n",
        "**Key-Value Pairs:** Dictionaries store data as key-value pairs, making it easier to organize and access data based on a specific key, unlike lists which just store values in order.\n",
        "\n",
        "**No Duplicates for Keys:** In a dictionary, each key is unique, so you don't need to worry about duplicate keys, while lists can have duplicate items."
      ],
      "metadata": {
        "id": "LQhBr0AjXUVh"
      }
    },
    {
      "cell_type": "markdown",
      "source": [
        "**12. Describe a scenario where using a tuple would be preferable over a list ?**\n",
        "\n",
        "Answer: A tuple would be better than a list if you need to store data that should not be changed. For example, if you're storing a date (like year, month, day), you don’t want the values to change by accident."
      ],
      "metadata": {
        "id": "kg2XC_G3Xkal"
      }
    },
    {
      "cell_type": "markdown",
      "source": [
        "**13. How do sets handle duplicate values in Python ?**\n",
        "\n",
        "Answer: Sets automatically remove duplicate values. If you try to add a duplicate value to a set, it will only keep one copy of that value.\n",
        "\n"
      ],
      "metadata": {
        "id": "Y3urmBAyXzbw"
      }
    },
    {
      "cell_type": "markdown",
      "source": [
        "**14. How does the “in” keyword work differently for lists and dictionaries ?**\n",
        "\n",
        "Answer: The in keyword works differently for lists and dictionaries in Python:\n",
        "\n",
        "For lists: It checks if a value is present in the list. For dictionaries: It checks if a key is present in the dictionary, not the value.\n",
        "\n"
      ],
      "metadata": {
        "id": "bfIbjebtX7QU"
      }
    },
    {
      "cell_type": "markdown",
      "source": [
        "**15. Can you modify the elements of a tuple? Explain why or why not ?**\n",
        "\n",
        "Answer: No, you cannot modify the elements of a tuple because tuples are immutable. Once a tuple is created, its values cannot be changed, added, or removed. This is to protect the data from being accidentally changed.\n",
        "\n",
        "\n"
      ],
      "metadata": {
        "id": "WANwaSd_YOW7"
      }
    },
    {
      "cell_type": "markdown",
      "source": [
        "**16. What is a nested dictionary, and give an example of its use case ?**\n",
        "\n",
        "Answer: A nested dictionary is a dictionary that contains other dictionaries as values. This allows you to organize data in multiple layers.\n",
        "\n",
        "Example: students = { \"Millan\": {\"age\": 20, \"grades\": [85, 90, 88]}, \"Rex\": {\"age\": 22, \"grades\": [78, 82, 80]}, }\n",
        "\n",
        "Use case: You can access specific information about a student, like Bob's age, by using the student's name as the key, and then the age key inside that student's dictionary.\n",
        "\n",
        "Example: print(students[\"Rex\"][\"age\"])\n"
      ],
      "metadata": {
        "id": "hnnUoFu2YZ0J"
      }
    },
    {
      "cell_type": "markdown",
      "source": [
        "**17. Describe the time complexity of accessing elements in a dictionary ?**\n",
        "\n",
        "Answer: Accessing elements in a dictionary is very fast and has a time complexity of O(1), which means it takes the same amount of time no matter how many items are in the dictionary.\n",
        "\n",
        "This is because dictionaries use a special method (hashing) to find the value quickly using the key.\n",
        "\n"
      ],
      "metadata": {
        "id": "BlxrjKBcYkhb"
      }
    },
    {
      "cell_type": "markdown",
      "source": [
        "**18. In what situations are lists preferred over dictionaries ?**\n",
        "\n",
        "Answer: Lists are preferred over dictionaries in situations where:\n",
        "\n",
        "Order matters: If you need to keep items in a specific order, use a list.\n",
        "\n",
        "Index-based access: If you need to access items by their position (like the first, second, etc.), lists are better.\n",
        "\n",
        "Storing similar items: If you're storing a collection of similar items (like numbers or names), a list is a good choice.\n"
      ],
      "metadata": {
        "id": "8gqBNBUmYzyo"
      }
    },
    {
      "cell_type": "markdown",
      "source": [
        "**19. Why are dictionaries considered unordered, and how does that affect data retrieval ?**\n",
        "\n",
        "Answer: Dictionaries are considered unordered because the items (key-value pairs) do not have a specific order. This means the items might not appear in the same order every time you access them.\n",
        "\n",
        "However, this doesn't affect data retrieval. You can still quickly find values by their keys regardless of the order of the items."
      ],
      "metadata": {
        "id": "QksPREneZBAO"
      }
    },
    {
      "cell_type": "markdown",
      "source": [
        "**20. Explain the difference between a list and a dictionary in terms of data retrieval ?**\n",
        "\n",
        "Answer: The main difference between a list and a dictionary in terms of data retrieval is how you access the data:\n",
        "\n",
        "List: You access elements by their index (position in the list).\n",
        "\n",
        "Dictionary: You access elements by their key, not by position."
      ],
      "metadata": {
        "id": "PGyK9ETCZJ19"
      }
    },
    {
      "cell_type": "markdown",
      "source": [
        "##PRATICAL QUESTIONS\n"
      ],
      "metadata": {
        "id": "ux02TPGrZ6Zh"
      }
    },
    {
      "cell_type": "code",
      "source": [
        "\n",
        "### Q1. Write a code to create a string with your name and print it ?\n",
        "\n",
        "my_name = \"Sharanya\"\n",
        "print(my_name)\n"
      ],
      "metadata": {
        "colab": {
          "base_uri": "https://localhost:8080/"
        },
        "id": "QPXGHzz1Z_tM",
        "outputId": "63c22006-ff05-4c8c-c9db-107cbb57f0ce"
      },
      "execution_count": 2,
      "outputs": [
        {
          "output_type": "stream",
          "name": "stdout",
          "text": [
            "Sharanya\n"
          ]
        }
      ]
    },
    {
      "cell_type": "code",
      "source": [
        "### Q2. Write a code to find the length of the string \"Hello World\" ?\n",
        "\n",
        "my_string = \"Hello World\"\n",
        "print(len(my_string))"
      ],
      "metadata": {
        "colab": {
          "base_uri": "https://localhost:8080/"
        },
        "id": "8AACsB_Xahrd",
        "outputId": "aa106901-56f0-4640-9f84-571efb1d6c1b"
      },
      "execution_count": 3,
      "outputs": [
        {
          "output_type": "stream",
          "name": "stdout",
          "text": [
            "11\n"
          ]
        }
      ]
    },
    {
      "cell_type": "code",
      "source": [
        "## Q3. Write a code to slice the first 3 characters from the string \"Python Programming\" ?\n",
        "\n",
        "my_string = \"Data science\"\n",
        "print(my_string[:4])"
      ],
      "metadata": {
        "colab": {
          "base_uri": "https://localhost:8080/"
        },
        "id": "mo9VUuSBa2PO",
        "outputId": "48ec7f8c-fb48-42c3-f507-aee817db8163"
      },
      "execution_count": 5,
      "outputs": [
        {
          "output_type": "stream",
          "name": "stdout",
          "text": [
            "Data\n"
          ]
        }
      ]
    },
    {
      "cell_type": "code",
      "source": [
        "### Q4. Write a code to convert the string \"hello\" to uppercase ?\n",
        "\n",
        "my_string = \"sharanya\"\n",
        "print(my_string.upper())"
      ],
      "metadata": {
        "colab": {
          "base_uri": "https://localhost:8080/"
        },
        "id": "qv4ziMftbVL3",
        "outputId": "fb7a797a-4710-4ddd-d697-fcae58b22ea0"
      },
      "execution_count": 7,
      "outputs": [
        {
          "output_type": "stream",
          "name": "stdout",
          "text": [
            "SHARANYA\n"
          ]
        }
      ]
    },
    {
      "cell_type": "code",
      "source": [
        "### Q5. Write a code to replace the word \"apple\" with \"orange\" in the string \"I like apple\" ?\n",
        "\n",
        "my_string = \"I like apple\"\n",
        "print(my_string.replace(\"apple\", \"orange\"))"
      ],
      "metadata": {
        "colab": {
          "base_uri": "https://localhost:8080/"
        },
        "id": "n4CiSkzxbaCY",
        "outputId": "9b02e010-09ab-4206-aa0b-33bd99255acc"
      },
      "execution_count": 8,
      "outputs": [
        {
          "output_type": "stream",
          "name": "stdout",
          "text": [
            "I like orange\n"
          ]
        }
      ]
    },
    {
      "cell_type": "code",
      "source": [
        "### Q6. Write a code to create a list with numbers 1 to 5 and print it ?\n",
        "\n",
        "my_list = [1, 2, 3, 4, 5]\n",
        "print(my_list)\n"
      ],
      "metadata": {
        "colab": {
          "base_uri": "https://localhost:8080/"
        },
        "id": "o_BfGbf6bupb",
        "outputId": "62991b7b-a0b9-4f98-e6ba-b67f1a373428"
      },
      "execution_count": 1,
      "outputs": [
        {
          "output_type": "stream",
          "name": "stdout",
          "text": [
            "[1, 2, 3, 4, 5]\n"
          ]
        }
      ]
    },
    {
      "cell_type": "code",
      "source": [
        "### Q7. Write a code to append the number 10 to the list [1, 2, 3, 4] ?\n",
        "\n",
        "my_list = [1, 2, 3, 4]\n",
        "my_list.append(25)\n",
        "print(my_list)"
      ],
      "metadata": {
        "colab": {
          "base_uri": "https://localhost:8080/"
        },
        "id": "Vl3Ky4Z4zwef",
        "outputId": "f9b9d5d4-a88f-4810-a0d3-771f1b3b7572"
      },
      "execution_count": 2,
      "outputs": [
        {
          "output_type": "stream",
          "name": "stdout",
          "text": [
            "[1, 2, 3, 4, 25]\n"
          ]
        }
      ]
    },
    {
      "cell_type": "code",
      "source": [
        "###Q8. Write a code to remove the number 3 from the list [1, 2, 3, 4, 5]\n",
        "\n",
        "my_list = [10, 20, 30, 40, 50]\n",
        "my_list.remove(40)\n",
        "print(my_list)"
      ],
      "metadata": {
        "colab": {
          "base_uri": "https://localhost:8080/"
        },
        "id": "1A0Xhu9n0NWT",
        "outputId": "a4b59ed4-913a-44c5-beac-c5c20547200d"
      },
      "execution_count": 3,
      "outputs": [
        {
          "output_type": "stream",
          "name": "stdout",
          "text": [
            "[10, 20, 30, 50]\n"
          ]
        }
      ]
    },
    {
      "cell_type": "code",
      "source": [
        "### Q9. Write a code to access the second element in the list ['a', 'b', 'c', 'd'] ?\n",
        "\n",
        "my_list = ['a', 'b', 'c', 'd']\n",
        "print(my_list[1])"
      ],
      "metadata": {
        "colab": {
          "base_uri": "https://localhost:8080/"
        },
        "id": "ESwxCHl10cGH",
        "outputId": "2ba22e90-9456-4e02-8f40-1be279ead344"
      },
      "execution_count": 4,
      "outputs": [
        {
          "output_type": "stream",
          "name": "stdout",
          "text": [
            "b\n"
          ]
        }
      ]
    },
    {
      "cell_type": "code",
      "source": [
        "\n",
        "### Q10. Write a code to reverse the list [10, 20, 30, 40, 50].\n",
        "\n",
        "my_list = [1, 2, 3, 4, 5]\n",
        "my_list.reverse()\n",
        "print(my_list)\n",
        "\n"
      ],
      "metadata": {
        "colab": {
          "base_uri": "https://localhost:8080/"
        },
        "id": "mEP1JOv30q1X",
        "outputId": "59bc24bd-902e-4a5f-a502-5bffaaeaa5d4"
      },
      "execution_count": 6,
      "outputs": [
        {
          "output_type": "stream",
          "name": "stdout",
          "text": [
            "[5, 4, 3, 2, 1]\n"
          ]
        }
      ]
    },
    {
      "cell_type": "code",
      "source": [
        "### Q11. Write a code to create a tuple with the elements 10, 20, 30 and print it ?\n",
        "\n",
        "\n",
        "my_list =(10, 20, 30)\n",
        "print(my_list)"
      ],
      "metadata": {
        "colab": {
          "base_uri": "https://localhost:8080/"
        },
        "id": "pomjRnf6029D",
        "outputId": "147ac9c0-87b2-4594-f09a-fbc4430d0a24"
      },
      "execution_count": 7,
      "outputs": [
        {
          "output_type": "stream",
          "name": "stdout",
          "text": [
            "(10, 20, 30)\n"
          ]
        }
      ]
    },
    {
      "cell_type": "code",
      "source": [
        "\n",
        "### Q12. Write a code to access the first element of the tuple ('apple', 'banana', 'cherry') ?\n",
        "\n",
        "my_tuple = ('apple', 'banana', 'cherry')\n",
        "print(my_tuple[0])"
      ],
      "metadata": {
        "colab": {
          "base_uri": "https://localhost:8080/"
        },
        "id": "Ar8Jojgr1gLq",
        "outputId": "23e4a362-f362-49e2-a722-a164901b71d5"
      },
      "execution_count": 8,
      "outputs": [
        {
          "output_type": "stream",
          "name": "stdout",
          "text": [
            "apple\n"
          ]
        }
      ]
    },
    {
      "cell_type": "code",
      "source": [
        "\n",
        "### Q13. Write a code to count how many times the number 2 appears in the tuple (1, 2, 3, 2, 4, 2).\n",
        "\n",
        "my_tuple = (1, 2, 3, 2, 4, 2)\n",
        "count = my_tuple.count(2)\n",
        "print(\"The number 2 appears\", count, \"times in the tuple.\")"
      ],
      "metadata": {
        "colab": {
          "base_uri": "https://localhost:8080/"
        },
        "id": "jqOhXUP21pVY",
        "outputId": "4190ad1a-5c29-4408-add9-2127fb40c498"
      },
      "execution_count": 9,
      "outputs": [
        {
          "output_type": "stream",
          "name": "stdout",
          "text": [
            "The number 2 appears 3 times in the tuple.\n"
          ]
        }
      ]
    },
    {
      "cell_type": "code",
      "source": [
        "### Q14. Write a code to find the index of the element \"cat\" in the tuple ('dog', 'cat', 'rabbit').\n",
        "\n",
        "my_tuple = ('dog', 'cat', 'rabbit')\n",
        "index = my_tuple.index('cat')\n",
        "print(\"The index of 'cat' is\", index)"
      ],
      "metadata": {
        "colab": {
          "base_uri": "https://localhost:8080/"
        },
        "id": "MJzcNWSZ15y0",
        "outputId": "92197463-224c-4692-a531-59209191ecb1"
      },
      "execution_count": 10,
      "outputs": [
        {
          "output_type": "stream",
          "name": "stdout",
          "text": [
            "The index of 'cat' is 1\n"
          ]
        }
      ]
    },
    {
      "cell_type": "code",
      "source": [
        "\n",
        "### Q15.  Write a code to check if the element \"banana\" is in the tuple ('apple', 'orange', 'banana').\n",
        "\n",
        "my_tuple = ('apple', 'orange', 'banana')\n",
        "if 'banana' in my_tuple:\n",
        "    print(\"The element 'banana' is in the tuple.\")\n",
        "else:\n",
        "    print(\"The element 'banana' is not in the tuple.\")"
      ],
      "metadata": {
        "colab": {
          "base_uri": "https://localhost:8080/"
        },
        "id": "iOdC4mSi2Q1h",
        "outputId": "6f919743-bd77-45c2-bec2-7c56da16d7bb"
      },
      "execution_count": 11,
      "outputs": [
        {
          "output_type": "stream",
          "name": "stdout",
          "text": [
            "The element 'banana' is in the tuple.\n"
          ]
        }
      ]
    },
    {
      "cell_type": "code",
      "source": [
        "\n",
        "### Q16. Write a code to create a set with the elements 1, 2, 3, 4, 5 and print it.\n",
        "\n",
        "my_set = {1, 2, 3, 4, 5}\n",
        "print(my_set)"
      ],
      "metadata": {
        "colab": {
          "base_uri": "https://localhost:8080/"
        },
        "id": "fFxmQQUI2q58",
        "outputId": "1d3a2cfa-f211-4ad1-d71b-b6379e22ca45"
      },
      "execution_count": 12,
      "outputs": [
        {
          "output_type": "stream",
          "name": "stdout",
          "text": [
            "{1, 2, 3, 4, 5}\n"
          ]
        }
      ]
    },
    {
      "cell_type": "code",
      "source": [
        "### Q17:  Write a code to add the element 6 to the set {1, 2, 3, 4}.\n",
        "\n",
        "my_set = {1, 2, 3, 4}\n",
        "my_set.add(5)\n",
        "print(my_set)"
      ],
      "metadata": {
        "colab": {
          "base_uri": "https://localhost:8080/"
        },
        "id": "T8BB30rA2xor",
        "outputId": "675e69c8-5af5-4c24-c997-03d1ea8b31f0"
      },
      "execution_count": 14,
      "outputs": [
        {
          "output_type": "stream",
          "name": "stdout",
          "text": [
            "{1, 2, 3, 4, 5}\n"
          ]
        }
      ]
    },
    {
      "cell_type": "code",
      "source": [
        "### Q18: Write a code to create a tuple with the elements 10, 20, 30 and print it.\n",
        "\n",
        "my_tuple = (10, 20, 30)\n",
        "print(my_tuple)"
      ],
      "metadata": {
        "colab": {
          "base_uri": "https://localhost:8080/"
        },
        "id": "lVxvbow427Mw",
        "outputId": "9bfbf959-2faa-470e-f716-891ef9077b1b"
      },
      "execution_count": 15,
      "outputs": [
        {
          "output_type": "stream",
          "name": "stdout",
          "text": [
            "(10, 20, 30)\n"
          ]
        }
      ]
    },
    {
      "cell_type": "code",
      "source": [
        "### Q19: Write a code to access the first element of the tuple ('apple', 'banana', 'cherry').\n",
        "\n",
        "my_tuple = ('apple', 'banana', 'cherry')\n",
        "print(my_tuple[0])"
      ],
      "metadata": {
        "colab": {
          "base_uri": "https://localhost:8080/"
        },
        "id": "kX1DKc893B6F",
        "outputId": "b4fceb3d-fd1d-455c-ea39-319455cfd7be"
      },
      "execution_count": 16,
      "outputs": [
        {
          "output_type": "stream",
          "name": "stdout",
          "text": [
            "apple\n"
          ]
        }
      ]
    },
    {
      "cell_type": "code",
      "source": [
        "\n",
        "### Q20: Write a code to count how many times the number 2 appears in the tuple (1, 2, 3, 2, 4, 2).\n",
        "\n",
        "my_tuple = (1, 2, 3, 2, 4, 2)\n",
        "count = my_tuple.count(2)\n",
        "print(\"The number 2 appears\", count, \"times in the tuple.\")"
      ],
      "metadata": {
        "colab": {
          "base_uri": "https://localhost:8080/"
        },
        "id": "KMuEyJYl3NYK",
        "outputId": "16279ddc-20ee-41fc-db34-4f572e821f1f"
      },
      "execution_count": 17,
      "outputs": [
        {
          "output_type": "stream",
          "name": "stdout",
          "text": [
            "The number 2 appears 3 times in the tuple.\n"
          ]
        }
      ]
    },
    {
      "cell_type": "code",
      "source": [
        "\n",
        "### Q21: Write a code to find the index of the element \"cat\" in the tuple ('dog', 'cat', 'rabbit').\n",
        "\n",
        "my_tuple = ('dog', 'cat', 'rabbit')\n",
        "index = my_tuple.index('cat')\n",
        "print(\"The index of 'cat' is\", index)"
      ],
      "metadata": {
        "colab": {
          "base_uri": "https://localhost:8080/"
        },
        "id": "00e5bsVf3ZZA",
        "outputId": "ad4a6bea-2ebf-4541-b85e-657c3fd1b6bd"
      },
      "execution_count": 19,
      "outputs": [
        {
          "output_type": "stream",
          "name": "stdout",
          "text": [
            "The index of 'cat' is 1\n"
          ]
        }
      ]
    },
    {
      "cell_type": "code",
      "source": [
        "### Q22: Write a code to check if the element \"banana\" is in the tuple ('apple', 'orange', 'banana').\n",
        "\n",
        "my_tuple = ('apple', 'orange', 'banana')\n",
        "if 'banana' in my_tuple:\n",
        "    print(\"The element 'banana' is in the tuple.\")"
      ],
      "metadata": {
        "colab": {
          "base_uri": "https://localhost:8080/"
        },
        "id": "jrR6MzZ23h1a",
        "outputId": "828d1e53-661f-40ac-bfab-c4ee546d2aee"
      },
      "execution_count": 20,
      "outputs": [
        {
          "output_type": "stream",
          "name": "stdout",
          "text": [
            "The element 'banana' is in the tuple.\n"
          ]
        }
      ]
    },
    {
      "cell_type": "code",
      "source": [
        "\n",
        "### Q23: Write a code to create a set with the elements 1, 2, 3, 4, 5 and print it.\n",
        "\n",
        "my_set = {1, 2, 3, 4, 5}\n",
        "print(my_set)"
      ],
      "metadata": {
        "colab": {
          "base_uri": "https://localhost:8080/"
        },
        "id": "bh_a-crz3oED",
        "outputId": "fe340759-76f1-467b-f023-339c6377f579"
      },
      "execution_count": 21,
      "outputs": [
        {
          "output_type": "stream",
          "name": "stdout",
          "text": [
            "{1, 2, 3, 4, 5}\n"
          ]
        }
      ]
    },
    {
      "cell_type": "code",
      "source": [
        "\n",
        "### Q24: Write a code to add the element 6 to the set {1, 2, 3, 4}.\n",
        "\n",
        "my_set = {1, 2, 3, 4}\n",
        "my_set.add(5)\n",
        "print(my_set)"
      ],
      "metadata": {
        "colab": {
          "base_uri": "https://localhost:8080/"
        },
        "id": "B06_2za23yC9",
        "outputId": "9e2fce9d-f99e-4230-8760-78f9f6bd9cf8"
      },
      "execution_count": 22,
      "outputs": [
        {
          "output_type": "stream",
          "name": "stdout",
          "text": [
            "{1, 2, 3, 4, 5}\n"
          ]
        }
      ]
    }
  ]
}